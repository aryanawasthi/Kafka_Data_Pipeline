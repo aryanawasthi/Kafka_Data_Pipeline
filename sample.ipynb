{
 "cells": [
  {
   "cell_type": "code",
   "execution_count": 19,
   "metadata": {},
   "outputs": [
    {
     "name": "stdout",
     "output_type": "stream",
     "text": [
      "23/05/27 10:38:14 WARN Utils: Your hostname, aryan-HP-EliteBook-Folio-9470m resolves to a loopback address: 127.0.1.1; using 192.168.29.242 instead (on interface wlo1)\n",
      "23/05/27 10:38:14 WARN Utils: Set SPARK_LOCAL_IP if you need to bind to another address\n"
     ]
    },
    {
     "name": "stderr",
     "output_type": "stream",
     "text": [
      "Setting default log level to \"WARN\".\n",
      "To adjust logging level use sc.setLogLevel(newLevel). For SparkR, use setLogLevel(newLevel).\n"
     ]
    },
    {
     "name": "stdout",
     "output_type": "stream",
     "text": [
      "23/05/27 10:38:16 WARN NativeCodeLoader: Unable to load native-hadoop library for your platform... using builtin-java classes where applicable\n"
     ]
    }
   ],
   "source": [
    "import pyspark\n",
    "from pyspark.sql import SparkSession\n",
    "spark=SparkSession.builder.appName(\"app\").master(\"local[*]\").getOrCreate()"
   ]
  },
  {
   "cell_type": "code",
   "execution_count": 289,
   "metadata": {},
   "outputs": [],
   "source": [
    "df_one=spark.read.format(\"csv\").option(\"inferSchema\",True).option(\"header\",True).option(\"path\",\"/home/aryan/IdeaProjects/1980s-movies.csv\").load()\n",
    "#df_one.columns#df_five.columns  ['title', 'image', 'plot']\n",
    "df_two=spark.read.format(\"csv\").option(\"inferSchema\",True).option(\"header\",True).option(\"path\",\"/home/aryan/IdeaProjects/1990s-movies.csv\").load()\n",
    "#df_two.columns#df_five.columns  ['title', 'image', 'plot']"
   ]
  },
  {
   "cell_type": "code",
   "execution_count": 290,
   "metadata": {},
   "outputs": [
    {
     "name": "stdout",
     "output_type": "stream",
     "text": [
      "+--------------------+--------------------+--------------------+\n",
      "|               title|               image|                plot|\n",
      "+--------------------+--------------------+--------------------+\n",
      "|Into the Night (1...|https://upload.wi...|Upon discovering ...|\n",
      "|Intruder (1989 film)|https://upload.wi...|A supermarket clo...|\n",
      "|Invaders from Mar...|https://upload.wi...|George Gardner en...|\n",
      "|Invasion U.S.A. (...|https://upload.wi...|A group of Cuban ...|\n",
      "|   The Invisible Kid|https://upload.wi...|Following in his ...|\n",
      "|The Invisible Wom...|https://upload.wi...|\"Dr. Dudley Plunk...|\n",
      "|Invitation to Hel...|https://upload.wi...|\"Matt Winslow mov...|\n",
      "|          Iron Eagle|https://upload.wi...|\"Doug Masters, so...|\n",
      "|       Iron Eagle II|https://upload.wi...|\"While on a routi...|\n",
      "|Irreconcilable Di...|https://upload.wi...|\"Casey Brodsky ha...|\n",
      "|       Ishtar (film)|https://upload.wi...|\"Chuck Clarke and...|\n",
      "|The Island (1980 ...|https://upload.wi...|Blair Maynard is ...|\n",
      "|It's Alive III: I...|https://upload.wi...|Several years aft...|\n",
      "|It's Impossible t...|https://upload.wi...|In its minimal an...|\n",
      "| It's My Turn (film)|https://upload.wi...|Kate Gunzinger is...|\n",
      "|        Izzy and Moe|https://upload.wi...|\"During the Prohi...|\n",
      "|         Jack's Back|https://upload.wi...|A young doctor in...|\n",
      "|            Jacknife|https://upload.wi...|Joseph Megessey (...|\n",
      "|  Jagged Edge (film)|https://upload.wi...|\"A masked intrude...|\n",
      "|          Jake Speed|https://upload.wi...|In Paris, a girl ...|\n",
      "+--------------------+--------------------+--------------------+\n",
      "only showing top 20 rows\n",
      "\n"
     ]
    }
   ],
   "source": [
    "df_one.show()"
   ]
  },
  {
   "cell_type": "code",
   "execution_count": 291,
   "metadata": {},
   "outputs": [],
   "source": [
    "df_three=spark.read.format(\"csv\").option(\"inferSchema\",True).option(\"header\",True).option(\"path\",\"/home/aryan/IdeaProjects/2000s-movies.csv\").load()\n",
    "#df_three.columns#df_five.columns  ['title', 'image', 'plot']\n",
    "# Loading the fourth Columns\n",
    "df_four=spark.read.format(\"csv\").option(\"inferSchema\",True).option(\"header\",True).option(\"path\",\"/home/aryan/IdeaProjects/2010s-movies.csv\").load()\n",
    "#df_four.columns ['title', 'image', 'plot']\n",
    "\n",
    "df_five=spark.read.format(\"csv\").option(\"inferSchema\",True).option(\"header\",True).option(\"path\",\"/home/aryan/IdeaProjects/2020s-movies.csv\").load()\n",
    "#df_five.columns  ['title', 'image', 'plot']"
   ]
  },
  {
   "cell_type": "code",
   "execution_count": 292,
   "metadata": {},
   "outputs": [],
   "source": [
    "text=\"\"\"[Row(title='Into the Night (1985 film)'),\n",
    " Row(title='Intruder (1989 film)'),\n",
    " Row(title='Invaders from Mars (1986 film)'),\n",
    " Row(title='Invasion U.S.A. (1985 film)'),\n",
    " Row(title='The Invisible Kid'),\n",
    " Row(title='The Invisible Woman (1983 film)'),\n",
    " Row(title='Invitation to Hell (1984 film)'),\n",
    " Row(title='Iron Eagle'),\n",
    " Row(title='Iron Eagle II'),\n",
    " Row(title='Irreconcilable Differences')]\"\"\"\n",
    "\n",
    "\n",
    "\n",
    "def find_year(x):\n",
    "    \"\"\"Arguements: String from which year has to be extracted\n",
    "    Returns the Year if it is present else return the null Value\"\"\"\n",
    "    import re\n",
    "    pattern=re.compile(r'\\d+')\n",
    "    res=re.findall(pattern,x)\n",
    "    #print(res)\n",
    "    if len(res)==0:\n",
    "        return None\n",
    "    else:\n",
    "        return res[0]\n",
    "    \n",
    "\n",
    "def check_func(input_para,exp_output,funct_to_check):\n",
    "    func_output=funct_to_check(input_para)\n",
    "    if func_output==exp_output:\n",
    "        print(f\"Test Successful {func_output}\")\n",
    "        return\n",
    "    \n",
    "    print(f\"Test Failed {func_output}\")\n"
   ]
  },
  {
   "cell_type": "code",
   "execution_count": 293,
   "metadata": {},
   "outputs": [
    {
     "name": "stdout",
     "output_type": "stream",
     "text": [
      "Test Successful 1985\n",
      "Test Successful None\n",
      "Test Failed None\n"
     ]
    }
   ],
   "source": [
    "# Let us build our testing functions \n",
    "check_func(\"itle='Into the Night (1985 film)\",'1985',find_year)\n",
    "# Let us build our testing functions \n",
    "check_func(\"itle=Into the Night \",None,find_year)\n",
    "check_func(\"\",111,find_year)\n",
    "\n",
    "\n"
   ]
  },
  {
   "cell_type": "code",
   "execution_count": 294,
   "metadata": {},
   "outputs": [],
   "source": [
    "from pyspark.sql.functions import udf,col\n",
    "from pyspark.sql.types import StringType\n",
    "\n",
    "find_yr=udf(find_year,StringType())"
   ]
  },
  {
   "cell_type": "code",
   "execution_count": 297,
   "metadata": {},
   "outputs": [
    {
     "ename": "TypeError",
     "evalue": "'str' object is not callable",
     "output_type": "error",
     "traceback": [
      "\u001b[0;31m---------------------------------------------------------------------------\u001b[0m",
      "\u001b[0;31mTypeError\u001b[0m                                 Traceback (most recent call last)",
      "\u001b[1;32m/home/aryan/Music/Kafka_Data_Pipeline-1/sample.ipynb Cell 8\u001b[0m in \u001b[0;36m1\n\u001b[0;32m----> <a href='vscode-notebook-cell:/home/aryan/Music/Kafka_Data_Pipeline-1/sample.ipynb#X50sZmlsZQ%3D%3D?line=0'>1</a>\u001b[0m df_one\u001b[39m=\u001b[39mdf_one\u001b[39m.\u001b[39mwithColumn(\u001b[39m\"\u001b[39m\u001b[39myr\u001b[39m\u001b[39m\"\u001b[39m,find_yr(col(\u001b[39m'\u001b[39;49m\u001b[39mtitle\u001b[39;49m\u001b[39m'\u001b[39;49m)))\n\u001b[1;32m      <a href='vscode-notebook-cell:/home/aryan/Music/Kafka_Data_Pipeline-1/sample.ipynb#X50sZmlsZQ%3D%3D?line=1'>2</a>\u001b[0m col_list\u001b[39m=\u001b[39mdf_one\u001b[39m.\u001b[39mcolumns\n\u001b[1;32m      <a href='vscode-notebook-cell:/home/aryan/Music/Kafka_Data_Pipeline-1/sample.ipynb#X50sZmlsZQ%3D%3D?line=2'>3</a>\u001b[0m \u001b[39mprint\u001b[39m(col_list)\n",
      "\u001b[0;31mTypeError\u001b[0m: 'str' object is not callable"
     ]
    }
   ],
   "source": [
    "df_one=df_one.withColumn(\"yr\",find_yr(col('title')))\n",
    "col_list=df_one.columns\n",
    "print(col_list)\n",
    "# Updateing the structure of Columns by Columns List\n",
    "new_list=[]\n",
    "new_list.append(col_list[-1])\n",
    "\n",
    "for col in col_list[:-1]:\n",
    "    new_list.append(col)\n",
    "\n",
    "print(new_list)\n",
    "\n",
    "\n",
    "\n"
   ]
  },
  {
   "cell_type": "code",
   "execution_count": 298,
   "metadata": {},
   "outputs": [
    {
     "data": {
      "text/plain": [
       "['title', 'image', 'plot', 'yr']"
      ]
     },
     "execution_count": 298,
     "metadata": {},
     "output_type": "execute_result"
    }
   ],
   "source": []
  },
  {
   "cell_type": "code",
   "execution_count": 272,
   "metadata": {},
   "outputs": [
    {
     "name": "stdout",
     "output_type": "stream",
     "text": [
      "{'results': []}\n"
     ]
    }
   ],
   "source": [
    "# We have a Year column which we will use in the calculation of Movies idea\n",
    "import requests\n",
    "\n",
    "url = \"https://moviesdatabase.p.rapidapi.com/titles/series/%7BseriesId%7D\"\n",
    "\n",
    "headers = {\n",
    "\t\"X-RapidAPI-Key\": \"900f9ea26emsh1e528778285aa86p1278f9jsnba97ee155288\",\n",
    "\t\"X-RapidAPI-Host\": \"moviesdatabase.p.rapidapi.com\"\n",
    "}\n",
    "\n",
    "response = requests.get(url, headers=headers)\n",
    "\n",
    "print(response.json())\n"
   ]
  },
  {
   "cell_type": "code",
   "execution_count": 288,
   "metadata": {},
   "outputs": [
    {
     "data": {
      "text/plain": [
       "[Row(title='Into the Night (1985 film)', image='https://upload.wikimedia.org/wikipedia/en/d/d1/Into-the-night-poster.jpg', plot=\"Upon discovering that his wife is having an affair, aerospace engineer and depressed insomniac Ed Okin drives to LAX on his friend Herb's suggestion. There, he is surprised by a beautiful jewel smuggler, Diana, who jumps into his car and begs him to drive her away from four Iranians who are chasing her. She persuades him to drive her to various locations, and he becomes embroiled in her predicament. After becoming increasingly exasperated with her demands, he discovers that Diana has smuggled priceless emeralds from the Shah of Iran's treasury into the country, and is being pursued by a variety of assailants, including the aforementioned agents of a criminal Iranian expatriate and a British hitman.  The couple's caper gets increasingly out of hand, until Diana is eventually taken hostage by the thugs at the airport; here, Ed shares his ennui with the man holding a gun to Diana's head. The man shoots himself, instead. Taken to a motel room by federal agents, they are given a fortune in cash from one of Diana's wealthy friends via a federal agent. Diana showers and Ed finally sleeps. He wakes up after a full night's rest to an empty hotel room, with most of the money gone. However, when he leaves the room, Diana is waiting for him, with the money, a smile, and a request for a ride to the airport.\"),\n",
       " Row(title='Intruder (1989 film)', image='https://upload.wikimedia.org/wikipedia/en/f/f7/Intruder_cover.jpg', plot=\"A supermarket closes and the workers begin restocking the shelves for the next day. Craig - the ex-boyfriend of cashier Jennifer - appears and the two quarrel. Worried about her friend, her coworker,Linda, witnesses the debacle , and presses her security button at her cash checkout . Co-owner Bill shows up and a fight ensues. Craig escapes onto the shop floor. The night crew set out to track him down while Jennifer calls the police. When they find Craig, there is another scuffle. He is ejected from the building and disappears into the night.  The owners gather the night crew to announce that they are selling the store and the staff will soon lose their jobs. The employees are assigned to mark down all the stock in preparation for the close. Craig makes telephone calls to the store, upsetting Jennifer. The police arrive but do little to help and just tell the group to be careful.  After finishing her shift, Linda is stabbed by an unseen assailant. Bill spots someone trying to enter through the back door and goes outside to investigate. He finds Craig watching Jennifer through the bathroom window and is rendered unconscious.  Back in the store, the killer begins to brutally murder the employees and scatters their severed body parts around in the store. Noticing that everyone seems to have vanished, Jennifer investigates and discovers several bodies and body parts in the storerooms. Terrified, she is attacked by the killer but manages to escape back to the shop floor. Hearing someone at the door, she tries to draw their attention, but the person has left by the time she gets there. Craig grabs her, but she beats him with a meat hook.  Bill then staggers in. Claiming that Craig attacked him outside the store, he proceeds to call the police. Jennifer notices Bill's hands are covered in blood and realizes that he is the killer. Bill tells her that he couldn't let his partner sell the store, so he killed him and got carried away killing everyone. Bill attacks Jennifer and chases her around the locked building. A delivery man appears outside, but Bill kills him before Jennifer can get his attention. Bill re-enters the building and stalks Jennifer again. Craig tells Jennifer he saw Bill killing Linda, and that he climbed into the building through the bathroom window to save her. Bill appears and bludgeons Craig while Jennifer flees.  Crawling out the bathroom window, she tries to escape in her car but finds Linda's body inside. Bill grabs her legs and pulls Jennifer under the car, but she stabs him with a knife. She heads to a phone booth to call the police, but Bill reappears and starts to smash the booth to get at her. He topples the phone booth over and traps her, but Craig appears and brutally damages him with a meat cleaver.  When the police arrive, one of the policemen finds the carnage in the store. The severely injured Bill claims that Jennifer and Craig are responsible for the attack. The policemen ignore their protests and arrest them. Bill suddenly opens his eyes as Jennifer screams, leaving all of their fates unknown.\"),\n",
       " Row(title='Invaders from Mars (1986 film)', image='https://upload.wikimedia.org/wikipedia/en/3/3b/Invadersmarsposter.jpg', plot=\"George Gardner encourages his 12-year-old son David's dreams of becoming an astronaut by stargazing with him. A thunderstorm wakes David, and he observes a strange alien spaceship landing on Copper Hill, just beyond the house. His father agrees to investigate, but returns behaving strangely and with an unexplained mark on the back of his neck. David's mother Helen and others as well soon  become similarly changed from their normal selves, worrying David.  At school, David discovers that his teacher Mrs. McKeltch and classmate Heather have also been changed. David shares his fears with Nurse Linda Magnusson after seeing she has no neck mark. Linda is skeptical but begins to share David's concern after seeing the change in Mrs. McKeltch and his parents. After evading capture by Mrs. McKeltch, David follows her to a cave in Copper Hill and discovers that the alien ship is real, crewed by brutish drones and their large-brained leader who is controlling many people around the town via brain implants inserted through the neck. David flees and reveals what he has learned to Linda. The two of them investigate further and decide to seek outside help.  David and Linda meet with General Wilson, commander of the military base that employs David's father. The general begins to believe them when two alien abductees at the site are exposed, confronted, and die from the killswitches in their implants activating. Wilson meets with NASA and SETI scientists who insist on proceeding with a scheduled launch to Mars, but the rocket is destroyed by a bomb planted by George. The scientists conclude that the Martians interpreted the launch as an act of war and are invading Earth preemptively.  Wilson leads his troops against the alien encampment at Copper Hill. While they prepare for a raid, David and Linda are captured by the Martians, prompting Wilson to launch a rescue mission. After unsuccessfully pleading with the Martian leader, David escapes while an unconscious Linda is prepped for implantation. David leads Wilson's force to the control room where a short but intense battle occurs. Linda is rescued and the invaders are forced to initiate a retreat. The human survivors plant charges and flee the ship as its liftoff sequence begins. David runs for the safety of his home, pursued by his parents, still under alien control. As the rising alien ship explodes, David's parents recover and try to protect him as the massive fireball races toward them.  Suddenly, David awakens in his bedroom. His parents assure him that his ordeal was just a dream and leave him to continue sleeping. However, David soon sees the same alien ship appear. He runs to his parents' room and screams in horror at what he sees.\"),\n",
       " Row(title='Invasion U.S.A. (1985 film)', image='https://upload.wikimedia.org/wikipedia/en/a/ad/Invasionusa.jpg', plot=\"A group of Cuban refugees is on a boat sailing for the United States and is at first met by what appears to be a US Coast Guard boat with armed personnel. The captain of the vessel declares that the refugees are welcomed to the United States, but the Guardsmen open fire on them and take several bags of cocaine hidden in the boat. It is revealed that the armed personnel were Latin American guerrillas disguised as Guardsmen on board a hijacked Coast Guard vessel.  Eventually, the real Coast Guard finds the boat with the murdered American Coast Guardsmen off the coast of Florida. The FBI and the Miami Police Department arrive at the docks to investigate the murders. The guerrillas land in Florida and exchange the drugs for weaponry from a drug dealer. They are led by the Soviet operative Mikal Rostov (Richard Lynch), the fake Coast Guard captain who opened fire on the Cuban refugees. Former CIA agent Matt Hunter (Norris) is asked to come out of retirement, but he declines. When Rostov and a team of guerrillas destroy Hunter's residence in the Everglades and kill his friend, John Eagle (Dehl Berti) in a failed assassination attempt, Hunter is convinced to reconsider.  Later that day, hundreds of additional guerrillas land on the beaches of Southern Florida and move inland using several pre-positioned trucks. The guerrillas begin their assault by destroying suburban homes. Another group of guerrillas impersonating Miami police officers attacks a community center full of Cuban expatriates in Miami. When a squad car with genuine Miami policemen drives by to investigate the gunfire, the survivors angrily start vandalizing their car and leave the police perplexed. The FBI has no idea who is behind the attacks, but Hunter and the CIA believe that Rostov is behind the attacks. As terrorist acts continue in Miami, race riots and general chaos develop within the city, just as the terrorists planned.  Later that night, the guerrillas start a shootout and bomb threat at a mall at which people are doing their Christmas shopping. During the attack, Hunter, having shaken down an informant, comes into the mall and takes down the guerrillas one by one. US National Guard troops are called up, martial law is declared in the city, and armed civilians organize to protect their communities from further guerrilla attacks. Hunter continues pursuing the terrorists and thwarts their plans to bomb a church. One community evacuates their children by school bus to safer rural areas, unknowingly containing a bomb planted by Nikko Kador, Rostov's right-hand man. Hunter grabs the bomb from the moving bus, then throws it at the vehicle of Nikko, who had been shadowing this, eliminating him. However, after arriving at a carnival bombed by the terrorists, Hunter realizes that they are spread out too far for him to stem the tide of their attacks effectively and so devises an alternative plan.  Alarmed by the threat, the government establishes a special theater command for the Southeastern United States with the headquarters at the Georgia-Pacific Tower in Atlanta. At the command center, all 50 state governors and military officials meet to stop the terror attacks. The FBI takes Hunter into custody for vigilantism against the terrorists, and he is taken to the command center, where he goads Rostov on national television to come out and kill him. Rostov orders all the guerrillas to assault the center in a mass attack, but they find no one inside. Hunter's arrest was a trap, and the National Guard arrives with tanks and troops, which hems the assailants in. While the battle rages outside, Hunter finally comes face-to-face with Rostov and kills him with an M72 LAW. The terror crisis ends when the few remaining guerrillas on the street surrender to the National Guard.\"),\n",
       " Row(title='The Invisible Kid', image='https://upload.wikimedia.org/wikipedia/en/f/fe/The_Invisible_Kid.jpg', plot=\"Following in his deceased father's footsteps, Grover Dunn finds a magic formula that makes him vanish. The formula causes all types of trouble for Grover and his mother and the love of his life when his high school principal rigs a basketball game; and he enlists the aid of a put-down cop to investigate.\"),\n",
       " Row(title='The Invisible Woman (1983 film)', image='https://upload.wikimedia.org/wikipedia/en/5/5f/The_Invisible_Woman_1983_Advertisement_Title.png', plot='\"Dr. Dudley Plunkett, a scientist, is experimenting with numerous containers of colored chemicals in his laboratory at the Universal Biochemical Institute in Washington D.C. He has two chimpanzees in cages, Chuck and Yvette. Chuck reaches through the bars of his cage and mixes some chemicals together, accidentally producing a formula which turns him invisible after he touches it. Plunkett phones his niece, Sandy Martinson, a newspaper reporter who is working on a story about stolen art. He invites her to the lab, telling her that a story about the invisible chimpanzee could be her first byline. After Sandy arrives, Chuck spills the invisibility formula. While wiping it up, Sandy inadvertently exposes herself to the liquid which causes her body to become invisible. She removes all her clothes to confirm that she is completely invisible without them. Sandy is distraught and tells her uncle that her life is now ruined.  Dr. Plunkett figures out that Sandy can appear passably visible again by using makeup, a wig and sunglasses. This enables Sandy to return to work. Her editor Neil Gillmore assigns her to investigate another art gallery theft. She decides to go nude so that she can use invisibility as an advantage in investigating the crime. She finds a key on the floor of the art gallery vault which leads her to a health club. There she is able to spy on the art thieves in a steam room. She finds out that wealthy philanthropist Carlisle Edwards is the mastermind behind the thefts and that he has instructed his two henchmen to steal Cleopatra\\'s scepter next. The scepter is worth millions of dollars and is also known as \"\"the curse of the Nile.\"\" A superstition says that it will bring death to whoever owns it. The thieves notice an outline of steam around Sandy as she watches them and try to pursue her'),\n",
       " Row(title='Invitation to Hell (1984 film)', image='https://upload.wikimedia.org/wikipedia/en/0/04/Invitation_to_hell_dvd_cover.jpg', plot='\"Matt Winslow moves with his wife, Patricia, and children, Chrissy and Robert, to an upper-middle class suburban neighborhood in Southern California from the midwest. Matt, an engineer, has taken a new job at Micro-DigiTech, a technology corporation housed in a large, windowed skyscraper near town. His new project entails a thermally-reinforced state-of-the-art space suit. Upon arriving, they are met by their friends, Mary and Tom Peterson, who also live in the community.  The Winslows are soon met by Jessica Jones, a local insurance agent and director of the Steaming Springs Country Club. At work, Grace, the secretary, attempts to give Matt a binder of secret information, and is replaced by a new secretary mere days later. Matt receives increasing pressure from his boss and peers to join the Steaming Springs club, which Tom and his family have already joined. The overt pressure to become members perturbs Matt, while Patricia suggests that they join, as it may help ensure Matt\\'s professional success.  Patricia decides to join the club herself along with Chrissy and Robert; the three are admitted by Jessica in a ceremony in which they enter a mysterious mist-filled room, described by Jessica as \"\"the spring.\"\" Matt receives a phone call from Grace\\'s husband'),\n",
       " Row(title='Iron Eagle', image='https://upload.wikimedia.org/wikipedia/en/0/04/Iron_eagle.jpg', plot='\"Doug Masters, son of veteran U.S. Air Force pilot Col. Ted Masters, is a hotshot civilian pilot, hoping to follow in his father\\'s footsteps. His hopes are dashed when he receives a notice of rejection from the Air Force Academy. Making matters worse is the news that his father has been shot down and captured by the fictional Arab state of Bilya while patrolling over the Mediterranean Sea.  Despite the incident occurring over international waters, the Arab state\\'s court finds Col. Masters guilty of trespassing over their territory and sentences him to hang in three days. Seeing that the U.S. government will do nothing to save his father\\'s life, Doug decides to take matters into his own hands and come up with his own rescue mission. He requests the help of Col. Charles \"\"Chappy\"\" Sinclair'),\n",
       " Row(title='Iron Eagle II', image='https://upload.wikimedia.org/wikipedia/en/9/9e/Iron_eagle_ii.jpg', plot='\"While on a routine patrol in United States airspace west of Alaska, pilots Doug \"\"Thumper\"\" Masters and Matt \"\"Cobra\"\" Cooper test the g-forces of their F-16C fighter aircraft. Their antics get them carried away'),\n",
       " Row(title='Irreconcilable Differences', image='https://upload.wikimedia.org/wikipedia/en/0/03/Irreconcilable_Differences_1984.jpg', plot='\"Casey Brodsky has decided to divorce her parents and have her nanny, Maria Hernandez, appointed as Casey\\'s legal guardian. It results in media attention, and her parents, Albert and Lucy Brodsky, are both brought out of their respective self-absorbed lives and made to testify in court about their personal lives.  At a truck stop in Indiana on the night of January 20th, 1973, film professor Albert Brodsky is hitchhiking across the country, where he gets picked up by Lucy van Patten, a woman who has ambitions of writing books, particularly for children, but her fiancé \"\"Bink\"\"')]"
      ]
     },
     "execution_count": 288,
     "metadata": {},
     "output_type": "execute_result"
    }
   ],
   "source": [
    "df_one.take(10)"
   ]
  },
  {
   "cell_type": "code",
   "execution_count": 301,
   "metadata": {},
   "outputs": [
    {
     "ename": "TypeError",
     "evalue": "'str' object is not callable",
     "output_type": "error",
     "traceback": [
      "\u001b[0;31m---------------------------------------------------------------------------\u001b[0m",
      "\u001b[0;31mTypeError\u001b[0m                                 Traceback (most recent call last)",
      "\u001b[1;32m/home/aryan/Music/Kafka_Data_Pipeline-1/sample.ipynb Cell 12\u001b[0m in \u001b[0;36m2\n\u001b[1;32m      <a href='vscode-notebook-cell:/home/aryan/Music/Kafka_Data_Pipeline-1/sample.ipynb#X60sZmlsZQ%3D%3D?line=0'>1</a>\u001b[0m \u001b[39m# Let us do the find_Year operations on the second to five dataframe.\u001b[39;00m\n\u001b[0;32m----> <a href='vscode-notebook-cell:/home/aryan/Music/Kafka_Data_Pipeline-1/sample.ipynb#X60sZmlsZQ%3D%3D?line=1'>2</a>\u001b[0m df_two\u001b[39m=\u001b[39mdf_two\u001b[39m.\u001b[39mwithColumn(\u001b[39m\"\u001b[39m\u001b[39myr\u001b[39m\u001b[39m\"\u001b[39m,find_yr(col(\u001b[39m\"\u001b[39;49m\u001b[39mtitle\u001b[39;49m\u001b[39m\"\u001b[39;49m)))\n\u001b[1;32m      <a href='vscode-notebook-cell:/home/aryan/Music/Kafka_Data_Pipeline-1/sample.ipynb#X60sZmlsZQ%3D%3D?line=2'>3</a>\u001b[0m df_two\u001b[39m.\u001b[39mcolumns\n",
      "\u001b[0;31mTypeError\u001b[0m: 'str' object is not callable"
     ]
    }
   ],
   "source": [
    "# Let us do the find_Year operations on the second to five dataframe.\n",
    "df_two=df_two.withColumn(\"yr\",find_yr(col(\"title\")))\n",
    "df_two.columns"
   ]
  },
  {
   "cell_type": "code",
   "execution_count": 303,
   "metadata": {},
   "outputs": [
    {
     "data": {
      "text/plain": [
       "['title', 'image', 'plot']"
      ]
     },
     "execution_count": 303,
     "metadata": {},
     "output_type": "execute_result"
    }
   ],
   "source": [
    "df_two.columns"
   ]
  },
  {
   "cell_type": "code",
   "execution_count": 305,
   "metadata": {},
   "outputs": [
    {
     "data": {
      "text/plain": [
       "['title', 'image', 'plot', 'yr']"
      ]
     },
     "execution_count": 305,
     "metadata": {},
     "output_type": "execute_result"
    }
   ],
   "source": [
    "df_one.columns"
   ]
  },
  {
   "cell_type": "code",
   "execution_count": 306,
   "metadata": {},
   "outputs": [
    {
     "name": "stdout",
     "output_type": "stream",
     "text": [
      "root\n",
      " |-- title: string (nullable = true)\n",
      " |-- image: string (nullable = true)\n",
      " |-- plot: string (nullable = true)\n",
      "\n"
     ]
    }
   ],
   "source": [
    "df_two.printSchema()"
   ]
  },
  {
   "cell_type": "code",
   "execution_count": 308,
   "metadata": {},
   "outputs": [
    {
     "data": {
      "text/plain": [
       "[Row(title='2 Days in the Valley'),\n",
       " Row(title='2by4'),\n",
       " Row(title='3 Ninjas (film)'),\n",
       " Row(title='3 Ninjas Kick Back'),\n",
       " Row(title='3 Ninjas Knuckle Up'),\n",
       " Row(title='3 Ninjas: High Noon at Mega Mountain'),\n",
       " Row(title='The 4th Floor (1999 film)'),\n",
       " Row(title='The 5th Monkey'),\n",
       " Row(title='The 6th Man'),\n",
       " Row(title='8 Heads in a Duffel Bag')]"
      ]
     },
     "execution_count": 308,
     "metadata": {},
     "output_type": "execute_result"
    }
   ],
   "source": [
    "df_two.select(\"title\").take(10)"
   ]
  },
  {
   "cell_type": "code",
   "execution_count": null,
   "metadata": {},
   "outputs": [],
   "source": []
  }
 ],
 "metadata": {
  "kernelspec": {
   "display_name": "Python 3",
   "language": "python",
   "name": "python3"
  },
  "language_info": {
   "codemirror_mode": {
    "name": "ipython",
    "version": 3
   },
   "file_extension": ".py",
   "mimetype": "text/x-python",
   "name": "python",
   "nbconvert_exporter": "python",
   "pygments_lexer": "ipython3",
   "version": "3.10.6"
  },
  "orig_nbformat": 4
 },
 "nbformat": 4,
 "nbformat_minor": 2
}
